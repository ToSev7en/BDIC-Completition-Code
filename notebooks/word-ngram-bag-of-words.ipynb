{
 "cells": [
  {
   "cell_type": "code",
   "execution_count": 1,
   "metadata": {},
   "outputs": [],
   "source": [
    "import os\n",
    "import re\n",
    "\n",
    "import warnings\n",
    "\n",
    "warnings.simplefilter(\"ignore\", UserWarning)\n",
    "\n",
    "from matplotlib import pyplot as plt\n",
    "%matplotlib inline\n",
    "\n",
    "import pandas as pd\n",
    "\n",
    "pd.options.mode.chained_assignment = None\n",
    "\n",
    "import numpy as np\n",
    "from string import punctuation\n",
    "\n",
    "from nltk.tokenize import word_tokenize\n",
    "\n",
    "from sklearn.model_selection import train_test_split\n",
    "from sklearn.feature_extraction.text import TfidfVectorizer\n",
    "from sklearn.linear_model import LogisticRegression\n",
    "from sklearn.metrics import accuracy_score, auc, roc_auc_score\n",
    "from sklearn.externals import joblib\n",
    "\n",
    "import scipy\n",
    "from scipy.sparse import hstack"
   ]
  },
  {
   "cell_type": "code",
   "execution_count": 2,
   "metadata": {},
   "outputs": [],
   "source": [
    "df_dataset = pd.read_csv('./dataset_inspur.csv', encoding='utf-8', usecols=['COMMCONTENT_SEG', 'COMMLEVEL'])\n",
    "df_dataset.columns = ['COMMCONTENT_SEG', 'COMMLEVEL']"
   ]
  },
  {
   "cell_type": "code",
   "execution_count": 3,
   "metadata": {},
   "outputs": [
    {
     "data": {
      "text/html": [
       "<div>\n",
       "<style scoped>\n",
       "    .dataframe tbody tr th:only-of-type {\n",
       "        vertical-align: middle;\n",
       "    }\n",
       "\n",
       "    .dataframe tbody tr th {\n",
       "        vertical-align: top;\n",
       "    }\n",
       "\n",
       "    .dataframe thead th {\n",
       "        text-align: right;\n",
       "    }\n",
       "</style>\n",
       "<table border=\"1\" class=\"dataframe\">\n",
       "  <thead>\n",
       "    <tr style=\"text-align: right;\">\n",
       "      <th></th>\n",
       "      <th>COMMCONTENT_SEG</th>\n",
       "      <th>COMMLEVEL</th>\n",
       "    </tr>\n",
       "  </thead>\n",
       "  <tbody>\n",
       "    <tr>\n",
       "      <th>0</th>\n",
       "      <td>普通 公园 一个 只是 多 了 几个 泉 而已 人不多 适合 老人 孩子 闲逛 买票 的话 ...</td>\n",
       "      <td>1</td>\n",
       "    </tr>\n",
       "    <tr>\n",
       "      <th>1</th>\n",
       "      <td>跟 儿子 在 里面 玩 了 一天 非常 好 跟 儿子 在 里面 玩 了 一天 非常 好 真的...</td>\n",
       "      <td>1</td>\n",
       "    </tr>\n",
       "    <tr>\n",
       "      <th>2</th>\n",
       "      <td>这 已经 是 第五次 来 这里 玩 了 每次 孩子 都 很 喜欢 不 愿意 从水里 出来 有...</td>\n",
       "      <td>1</td>\n",
       "    </tr>\n",
       "    <tr>\n",
       "      <th>3</th>\n",
       "      <td>当天 在 携程 上定 的 票 打 温泉 度假村 咨询电话 和 携程 客服 都 说 次日 生效...</td>\n",
       "      <td>1</td>\n",
       "    </tr>\n",
       "    <tr>\n",
       "      <th>4</th>\n",
       "      <td>烟台 历史 的 一部分 非常 值得 推荐 去 看看 海边 景色 也 很漂亮</td>\n",
       "      <td>1</td>\n",
       "    </tr>\n",
       "    <tr>\n",
       "      <th>5</th>\n",
       "      <td>周末 看看 动物 亲近 亲近 大自然 挺 好 的 媳妇儿 还 跟 猴子 拍照 猴子 满身 爬...</td>\n",
       "      <td>1</td>\n",
       "    </tr>\n",
       "    <tr>\n",
       "      <th>6</th>\n",
       "      <td>五四 广场 青岛 旅游景点 必 打卡 又 一 地点 标志性 红包 建筑 雕塑 矗立 在 市政...</td>\n",
       "      <td>1</td>\n",
       "    </tr>\n",
       "    <tr>\n",
       "      <th>7</th>\n",
       "      <td>五四 广场 坐落 在 山东省 青岛市 市南区 在 海边 那个 红红的 火炬 就是 五四 广场...</td>\n",
       "      <td>1</td>\n",
       "    </tr>\n",
       "    <tr>\n",
       "      <th>8</th>\n",
       "      <td>环境 好 景色 美 值得 游览 感觉 很 好</td>\n",
       "      <td>1</td>\n",
       "    </tr>\n",
       "    <tr>\n",
       "      <th>9</th>\n",
       "      <td>青岛市 中心广场 纪念 五四运动 而 命名 风景 独特</td>\n",
       "      <td>1</td>\n",
       "    </tr>\n",
       "    <tr>\n",
       "      <th>10</th>\n",
       "      <td>岱庙 历史 已经 达 千年 以上 岱庙 是 古代 皇帝 来 泰安 的 行宫 历朝历代 留下 ...</td>\n",
       "      <td>1</td>\n",
       "    </tr>\n",
       "    <tr>\n",
       "      <th>11</th>\n",
       "      <td>很大 的 一个 庙 网上 订票 很 方便</td>\n",
       "      <td>1</td>\n",
       "    </tr>\n",
       "    <tr>\n",
       "      <th>12</th>\n",
       "      <td>渔港 建设 的 比较 好 停车位 充足 海鲜 品种 丰富 积米 崖 的 海鲜 集市 时间 不...</td>\n",
       "      <td>1</td>\n",
       "    </tr>\n",
       "    <tr>\n",
       "      <th>13</th>\n",
       "      <td>该 景点 绝对 是 此生 必去 景区 之一 推荐 大家 都 去 玩玩 非常适合 全家 出动 ...</td>\n",
       "      <td>1</td>\n",
       "    </tr>\n",
       "    <tr>\n",
       "      <th>14</th>\n",
       "      <td>交通 便利 物美价廉 快来 快来 交通 便利 物美价廉 快来 快来 交通 便利 物美价廉 快...</td>\n",
       "      <td>1</td>\n",
       "    </tr>\n",
       "    <tr>\n",
       "      <th>15</th>\n",
       "      <td>海鲜 多 新鲜 自己 买 自己 做 味道 不错 的</td>\n",
       "      <td>1</td>\n",
       "    </tr>\n",
       "    <tr>\n",
       "      <th>16</th>\n",
       "      <td>螃蟹 海蛎子 很 新鲜 看看 来 购买 公交 方便 有 停车场 也 有 干 海货 过年 送礼...</td>\n",
       "      <td>1</td>\n",
       "    </tr>\n",
       "    <tr>\n",
       "      <th>17</th>\n",
       "      <td>海鲜 品种 多 价格合理 新鲜 交通 便利 有个 大 停车场 快 来 选购 吧</td>\n",
       "      <td>1</td>\n",
       "    </tr>\n",
       "    <tr>\n",
       "      <th>18</th>\n",
       "      <td>10 月 6 号 出行 一家 4 人 两个 孩子 给 孩子 增加 科普知识 不虚此行 然后 ...</td>\n",
       "      <td>1</td>\n",
       "    </tr>\n",
       "    <tr>\n",
       "      <th>19</th>\n",
       "      <td>增加 了 自然 知识 和 地球 的 动植物 进化 过程 了解 孩子 看 的 很 认真 是 不...</td>\n",
       "      <td>1</td>\n",
       "    </tr>\n",
       "    <tr>\n",
       "      <th>20</th>\n",
       "      <td>博物馆 很大 收藏 品种 很多 值得一看 推荐 哦</td>\n",
       "      <td>1</td>\n",
       "    </tr>\n",
       "    <tr>\n",
       "      <th>21</th>\n",
       "      <td>下雨天 人少 不用 排队 挺 好 建筑 很 童话 适合 拍照</td>\n",
       "      <td>1</td>\n",
       "    </tr>\n",
       "    <tr>\n",
       "      <th>22</th>\n",
       "      <td>玩 的 非常 开心 体验 高科技 非常 惊喜 值得 再次 游玩</td>\n",
       "      <td>1</td>\n",
       "    </tr>\n",
       "    <tr>\n",
       "      <th>23</th>\n",
       "      <td>家乡 的 产业 支持 一下 最近 几年 建 的 还 不错 野人谷 民俗村 表演 都 很多 很...</td>\n",
       "      <td>1</td>\n",
       "    </tr>\n",
       "    <tr>\n",
       "      <th>24</th>\n",
       "      <td>虽然 路途 有點 远 但是 过去 赶到 以后 发觉 真心 太 不赖 各种 理疗 各种 温泉 ...</td>\n",
       "      <td>1</td>\n",
       "    </tr>\n",
       "    <tr>\n",
       "      <th>25</th>\n",
       "      <td>世界 上 最大 的 宋代 山寨 水寨 气势雄伟 蔚为壮观 水寨 吊桥 山寨 忠义堂 构成</td>\n",
       "      <td>1</td>\n",
       "    </tr>\n",
       "    <tr>\n",
       "      <th>26</th>\n",
       "      <td>这里 的 风景 真的 不错 就是 门票 贵 了 点 但是 总体 来讲 性价比 还是 不错 的...</td>\n",
       "      <td>1</td>\n",
       "    </tr>\n",
       "    <tr>\n",
       "      <th>27</th>\n",
       "      <td>很 好 的 一次 旅行 就是 人 有点 多 总体 来说 很 好</td>\n",
       "      <td>1</td>\n",
       "    </tr>\n",
       "    <tr>\n",
       "      <th>28</th>\n",
       "      <td>不错 的 带 孩子 来 玩 孩子 很 高兴</td>\n",
       "      <td>1</td>\n",
       "    </tr>\n",
       "    <tr>\n",
       "      <th>29</th>\n",
       "      <td>在 小鱼 温泉 中泡 得 很 舒服 孩子 玩得 很 开心 下次 还会 再 去</td>\n",
       "      <td>1</td>\n",
       "    </tr>\n",
       "    <tr>\n",
       "      <th>...</th>\n",
       "      <td>...</td>\n",
       "      <td>...</td>\n",
       "    </tr>\n",
       "    <tr>\n",
       "      <th>19964</th>\n",
       "      <td>大 马戏 和 水上 乐园 检票 时 告知 六月 1.5 米 以下 儿童 免费 结果 我 在 ...</td>\n",
       "      <td>3</td>\n",
       "    </tr>\n",
       "    <tr>\n",
       "      <th>19965</th>\n",
       "      <td>换票 等 了 一个 小时 人超 多 而且 不 排队 被 狠狠 挤 了 一下 还有 好多 人 ...</td>\n",
       "      <td>3</td>\n",
       "    </tr>\n",
       "    <tr>\n",
       "      <th>19966</th>\n",
       "      <td>不 满意 太 黑 服务 太 差 一般 吧</td>\n",
       "      <td>3</td>\n",
       "    </tr>\n",
       "    <tr>\n",
       "      <th>19967</th>\n",
       "      <td>奇怪 这张 订单 怎么 来 的 根本 没有 预定 这 张票 管理 好 混乱</td>\n",
       "      <td>3</td>\n",
       "    </tr>\n",
       "    <tr>\n",
       "      <th>19968</th>\n",
       "      <td>明明 可以 在 7 号 窗口 取票 可排 到 队 工作人员 像 不 认识 字 不 理解 意思...</td>\n",
       "      <td>3</td>\n",
       "    </tr>\n",
       "    <tr>\n",
       "      <th>19969</th>\n",
       "      <td>人太多 了 2 小时 排个 激流 湧进 可能 因为 七夕 特价</td>\n",
       "      <td>3</td>\n",
       "    </tr>\n",
       "    <tr>\n",
       "      <th>19970</th>\n",
       "      <td>没什么 好 逗 的 就是 寺庙 信佛 的 去 去 不错 不 建议 去 取票 处 那里 租借 ...</td>\n",
       "      <td>3</td>\n",
       "    </tr>\n",
       "    <tr>\n",
       "      <th>19971</th>\n",
       "      <td>太 垃圾 了 不是 一般 的 失望 走 了 那么 远才 看到 售票处 而且 不 做 观光车 ...</td>\n",
       "      <td>3</td>\n",
       "    </tr>\n",
       "    <tr>\n",
       "      <th>19972</th>\n",
       "      <td>这 两个 票 地方 差 十万八千里 太差 啦</td>\n",
       "      <td>3</td>\n",
       "    </tr>\n",
       "    <tr>\n",
       "      <th>19973</th>\n",
       "      <td>环境 差 条件 差 服务员 素质 差 只有 巨浪 还 凑合 不会 再 去</td>\n",
       "      <td>3</td>\n",
       "    </tr>\n",
       "    <tr>\n",
       "      <th>19974</th>\n",
       "      <td>服务员 说 你们 下次 都 别来 了 太 不好 了 挨个 旅客 告诉 还 说 谁家 更衣室 ...</td>\n",
       "      <td>3</td>\n",
       "    </tr>\n",
       "    <tr>\n",
       "      <th>19975</th>\n",
       "      <td>我订 的 琅 玡 山 门票</td>\n",
       "      <td>3</td>\n",
       "    </tr>\n",
       "    <tr>\n",
       "      <th>19976</th>\n",
       "      <td>其实 买 得 比 原价 贵 导游 也 很 垃圾</td>\n",
       "      <td>3</td>\n",
       "    </tr>\n",
       "    <tr>\n",
       "      <th>19977</th>\n",
       "      <td>第一次 使 用途 牛 就 给 我 一次 狠狠 的 教训 当时 票 买 错 了 我 和 途牛 ...</td>\n",
       "      <td>3</td>\n",
       "    </tr>\n",
       "    <tr>\n",
       "      <th>19978</th>\n",
       "      <td>没有 优惠 取票 立等可取 省 了 排队 景区 内 东西 贵得 要死</td>\n",
       "      <td>3</td>\n",
       "    </tr>\n",
       "    <tr>\n",
       "      <th>19979</th>\n",
       "      <td>管理混乱 , 入园 排队 , 拥挤 非常 危险 , 差点 就 受伤 ..... 非常 恐怖 ...</td>\n",
       "      <td>3</td>\n",
       "    </tr>\n",
       "    <tr>\n",
       "      <th>19980</th>\n",
       "      <td>天津 方特 实在 没有 宣传 的 那么 牛 逼 太 让 人 失望 了 9 点 开园 进去 很...</td>\n",
       "      <td>3</td>\n",
       "    </tr>\n",
       "    <tr>\n",
       "      <th>19981</th>\n",
       "      <td>没 显示 到底 是 什么 票 到 了 景点 说 是 只有 老人 小孩 可以 使用 一大 一小...</td>\n",
       "      <td>3</td>\n",
       "    </tr>\n",
       "    <tr>\n",
       "      <th>19982</th>\n",
       "      <td>服务 态度恶劣 台风 来 了 也 没人来 救援</td>\n",
       "      <td>3</td>\n",
       "    </tr>\n",
       "    <tr>\n",
       "      <th>19983</th>\n",
       "      <td>直接 刷 身份证 很 方便 不用 排队</td>\n",
       "      <td>3</td>\n",
       "    </tr>\n",
       "    <tr>\n",
       "      <th>19984</th>\n",
       "      <td>景区 接待 人员 态度恶劣 说不清楚 在 哪里 还 牢骚 一堆 不 建议 买 这家 的 出门...</td>\n",
       "      <td>3</td>\n",
       "    </tr>\n",
       "    <tr>\n",
       "      <th>19985</th>\n",
       "      <td>21 号 游玩 因为 预订 后 一直 没收 到 确认 订单 20 晚上 我 又 打电话 给 ...</td>\n",
       "      <td>3</td>\n",
       "    </tr>\n",
       "    <tr>\n",
       "      <th>19986</th>\n",
       "      <td>导游 帮 我们 拿到 票后 不 给 票 让 加钱 不加 钱 不让 上船 差评 最后 我们 4...</td>\n",
       "      <td>3</td>\n",
       "    </tr>\n",
       "    <tr>\n",
       "      <th>19987</th>\n",
       "      <td>, 很 好</td>\n",
       "      <td>3</td>\n",
       "    </tr>\n",
       "    <tr>\n",
       "      <th>19988</th>\n",
       "      <td>票价 优惠 不太大 景区 也 一般</td>\n",
       "      <td>3</td>\n",
       "    </tr>\n",
       "    <tr>\n",
       "      <th>19989</th>\n",
       "      <td>首先 说明 一下 预订 的 票 根本 就 没有 取成 原因 是 景点 告知 途牛 与其 协议...</td>\n",
       "      <td>3</td>\n",
       "    </tr>\n",
       "    <tr>\n",
       "      <th>19990</th>\n",
       "      <td>途牛发 的 订票 信息 居然 是 错 的 现场 取票 来回 耽误 了 近 10 多分钟 幸亏...</td>\n",
       "      <td>3</td>\n",
       "    </tr>\n",
       "    <tr>\n",
       "      <th>19991</th>\n",
       "      <td>很 失望 5 月 1 号 中午 定 的 票 未 收到 订单 识别码 到 第二天 早上 到 景...</td>\n",
       "      <td>3</td>\n",
       "    </tr>\n",
       "    <tr>\n",
       "      <th>19992</th>\n",
       "      <td>一点 也 不好 景区 有 说 学生票 拿 学生证 免费 的 途牛里 没 提示 去 了 景区 ...</td>\n",
       "      <td>3</td>\n",
       "    </tr>\n",
       "    <tr>\n",
       "      <th>19993</th>\n",
       "      <td>没什么 意思 就 只有 个 石像</td>\n",
       "      <td>3</td>\n",
       "    </tr>\n",
       "  </tbody>\n",
       "</table>\n",
       "<p>19994 rows × 2 columns</p>\n",
       "</div>"
      ],
      "text/plain": [
       "                                         COMMCONTENT_SEG  COMMLEVEL\n",
       "0      普通 公园 一个 只是 多 了 几个 泉 而已 人不多 适合 老人 孩子 闲逛 买票 的话 ...          1\n",
       "1      跟 儿子 在 里面 玩 了 一天 非常 好 跟 儿子 在 里面 玩 了 一天 非常 好 真的...          1\n",
       "2      这 已经 是 第五次 来 这里 玩 了 每次 孩子 都 很 喜欢 不 愿意 从水里 出来 有...          1\n",
       "3      当天 在 携程 上定 的 票 打 温泉 度假村 咨询电话 和 携程 客服 都 说 次日 生效...          1\n",
       "4                  烟台 历史 的 一部分 非常 值得 推荐 去 看看 海边 景色 也 很漂亮          1\n",
       "5      周末 看看 动物 亲近 亲近 大自然 挺 好 的 媳妇儿 还 跟 猴子 拍照 猴子 满身 爬...          1\n",
       "6      五四 广场 青岛 旅游景点 必 打卡 又 一 地点 标志性 红包 建筑 雕塑 矗立 在 市政...          1\n",
       "7      五四 广场 坐落 在 山东省 青岛市 市南区 在 海边 那个 红红的 火炬 就是 五四 广场...          1\n",
       "8                                 环境 好 景色 美 值得 游览 感觉 很 好          1\n",
       "9                            青岛市 中心广场 纪念 五四运动 而 命名 风景 独特          1\n",
       "10     岱庙 历史 已经 达 千年 以上 岱庙 是 古代 皇帝 来 泰安 的 行宫 历朝历代 留下 ...          1\n",
       "11                                  很大 的 一个 庙 网上 订票 很 方便          1\n",
       "12     渔港 建设 的 比较 好 停车位 充足 海鲜 品种 丰富 积米 崖 的 海鲜 集市 时间 不...          1\n",
       "13     该 景点 绝对 是 此生 必去 景区 之一 推荐 大家 都 去 玩玩 非常适合 全家 出动 ...          1\n",
       "14     交通 便利 物美价廉 快来 快来 交通 便利 物美价廉 快来 快来 交通 便利 物美价廉 快...          1\n",
       "15                             海鲜 多 新鲜 自己 买 自己 做 味道 不错 的          1\n",
       "16     螃蟹 海蛎子 很 新鲜 看看 来 购买 公交 方便 有 停车场 也 有 干 海货 过年 送礼...          1\n",
       "17               海鲜 品种 多 价格合理 新鲜 交通 便利 有个 大 停车场 快 来 选购 吧          1\n",
       "18     10 月 6 号 出行 一家 4 人 两个 孩子 给 孩子 增加 科普知识 不虚此行 然后 ...          1\n",
       "19     增加 了 自然 知识 和 地球 的 动植物 进化 过程 了解 孩子 看 的 很 认真 是 不...          1\n",
       "20                             博物馆 很大 收藏 品种 很多 值得一看 推荐 哦          1\n",
       "21                        下雨天 人少 不用 排队 挺 好 建筑 很 童话 适合 拍照          1\n",
       "22                       玩 的 非常 开心 体验 高科技 非常 惊喜 值得 再次 游玩          1\n",
       "23     家乡 的 产业 支持 一下 最近 几年 建 的 还 不错 野人谷 民俗村 表演 都 很多 很...          1\n",
       "24     虽然 路途 有點 远 但是 过去 赶到 以后 发觉 真心 太 不赖 各种 理疗 各种 温泉 ...          1\n",
       "25          世界 上 最大 的 宋代 山寨 水寨 气势雄伟 蔚为壮观 水寨 吊桥 山寨 忠义堂 构成          1\n",
       "26     这里 的 风景 真的 不错 就是 门票 贵 了 点 但是 总体 来讲 性价比 还是 不错 的...          1\n",
       "27                       很 好 的 一次 旅行 就是 人 有点 多 总体 来说 很 好          1\n",
       "28                                 不错 的 带 孩子 来 玩 孩子 很 高兴          1\n",
       "29                在 小鱼 温泉 中泡 得 很 舒服 孩子 玩得 很 开心 下次 还会 再 去          1\n",
       "...                                                  ...        ...\n",
       "19964  大 马戏 和 水上 乐园 检票 时 告知 六月 1.5 米 以下 儿童 免费 结果 我 在 ...          3\n",
       "19965  换票 等 了 一个 小时 人超 多 而且 不 排队 被 狠狠 挤 了 一下 还有 好多 人 ...          3\n",
       "19966                               不 满意 太 黑 服务 太 差 一般 吧          3\n",
       "19967              奇怪 这张 订单 怎么 来 的 根本 没有 预定 这 张票 管理 好 混乱          3\n",
       "19968  明明 可以 在 7 号 窗口 取票 可排 到 队 工作人员 像 不 认识 字 不 理解 意思...          3\n",
       "19969                    人太多 了 2 小时 排个 激流 湧进 可能 因为 七夕 特价          3\n",
       "19970  没什么 好 逗 的 就是 寺庙 信佛 的 去 去 不错 不 建议 去 取票 处 那里 租借 ...          3\n",
       "19971  太 垃圾 了 不是 一般 的 失望 走 了 那么 远才 看到 售票处 而且 不 做 观光车 ...          3\n",
       "19972                             这 两个 票 地方 差 十万八千里 太差 啦          3\n",
       "19973               环境 差 条件 差 服务员 素质 差 只有 巨浪 还 凑合 不会 再 去          3\n",
       "19974  服务员 说 你们 下次 都 别来 了 太 不好 了 挨个 旅客 告诉 还 说 谁家 更衣室 ...          3\n",
       "19975                                      我订 的 琅 玡 山 门票          3\n",
       "19976                            其实 买 得 比 原价 贵 导游 也 很 垃圾          3\n",
       "19977  第一次 使 用途 牛 就 给 我 一次 狠狠 的 教训 当时 票 买 错 了 我 和 途牛 ...          3\n",
       "19978                 没有 优惠 取票 立等可取 省 了 排队 景区 内 东西 贵得 要死          3\n",
       "19979  管理混乱 , 入园 排队 , 拥挤 非常 危险 , 差点 就 受伤 ..... 非常 恐怖 ...          3\n",
       "19980  天津 方特 实在 没有 宣传 的 那么 牛 逼 太 让 人 失望 了 9 点 开园 进去 很...          3\n",
       "19981  没 显示 到底 是 什么 票 到 了 景点 说 是 只有 老人 小孩 可以 使用 一大 一小...          3\n",
       "19982                            服务 态度恶劣 台风 来 了 也 没人来 救援          3\n",
       "19983                                直接 刷 身份证 很 方便 不用 排队          3\n",
       "19984  景区 接待 人员 态度恶劣 说不清楚 在 哪里 还 牢骚 一堆 不 建议 买 这家 的 出门...          3\n",
       "19985  21 号 游玩 因为 预订 后 一直 没收 到 确认 订单 20 晚上 我 又 打电话 给 ...          3\n",
       "19986  导游 帮 我们 拿到 票后 不 给 票 让 加钱 不加 钱 不让 上船 差评 最后 我们 4...          3\n",
       "19987                                              , 很 好          3\n",
       "19988                                  票价 优惠 不太大 景区 也 一般          3\n",
       "19989  首先 说明 一下 预订 的 票 根本 就 没有 取成 原因 是 景点 告知 途牛 与其 协议...          3\n",
       "19990  途牛发 的 订票 信息 居然 是 错 的 现场 取票 来回 耽误 了 近 10 多分钟 幸亏...          3\n",
       "19991  很 失望 5 月 1 号 中午 定 的 票 未 收到 订单 识别码 到 第二天 早上 到 景...          3\n",
       "19992  一点 也 不好 景区 有 说 学生票 拿 学生证 免费 的 途牛里 没 提示 去 了 景区 ...          3\n",
       "19993                                   没什么 意思 就 只有 个 石像          3\n",
       "\n",
       "[19994 rows x 2 columns]"
      ]
     },
     "execution_count": 3,
     "metadata": {},
     "output_type": "execute_result"
    }
   ],
   "source": [
    "df_dataset"
   ]
  },
  {
   "cell_type": "code",
   "execution_count": 7,
   "metadata": {},
   "outputs": [
    {
     "name": "stdout",
     "output_type": "stream",
     "text": [
      "(19994, 2)\n"
     ]
    }
   ],
   "source": [
    "data = df_dataset.sample(frac=1, random_state=42)\n",
    "print(data.shape)"
   ]
  },
  {
   "cell_type": "code",
   "execution_count": 8,
   "metadata": {},
   "outputs": [
    {
     "data": {
      "text/html": [
       "<div>\n",
       "<style scoped>\n",
       "    .dataframe tbody tr th:only-of-type {\n",
       "        vertical-align: middle;\n",
       "    }\n",
       "\n",
       "    .dataframe tbody tr th {\n",
       "        vertical-align: top;\n",
       "    }\n",
       "\n",
       "    .dataframe thead th {\n",
       "        text-align: right;\n",
       "    }\n",
       "</style>\n",
       "<table border=\"1\" class=\"dataframe\">\n",
       "  <thead>\n",
       "    <tr style=\"text-align: right;\">\n",
       "      <th></th>\n",
       "      <th>COMMCONTENT_SEG</th>\n",
       "      <th>COMMLEVEL</th>\n",
       "    </tr>\n",
       "  </thead>\n",
       "  <tbody>\n",
       "    <tr>\n",
       "      <th>7992</th>\n",
       "      <td>商业 气息 太 浓 摆摊 的 太 多 破坏 了 村子 的 整体 感觉</td>\n",
       "      <td>2</td>\n",
       "    </tr>\n",
       "    <tr>\n",
       "      <th>5217</th>\n",
       "      <td>刘公岛 是 威海 最 值得 来 的 景点 做好 能 避开 周末 游客 多 的 时间 有 时间...</td>\n",
       "      <td>1</td>\n",
       "    </tr>\n",
       "    <tr>\n",
       "      <th>16507</th>\n",
       "      <td>泰山 温泉 周围环境 景色 很 美 室内 小 池子 温泉水 不 干净 泳池 水太凉 一般</td>\n",
       "      <td>3</td>\n",
       "    </tr>\n",
       "    <tr>\n",
       "      <th>9121</th>\n",
       "      <td>德国 风情街 在 馆陶 路 那边 有 一些 德国 风情 的 建筑 适合 拍照 哦</td>\n",
       "      <td>2</td>\n",
       "    </tr>\n",
       "    <tr>\n",
       "      <th>3241</th>\n",
       "      <td>值得 去 看 一下 啊 这里 也 是 一个 风景区 啊</td>\n",
       "      <td>1</td>\n",
       "    </tr>\n",
       "    <tr>\n",
       "      <th>2980</th>\n",
       "      <td>总的来说 不错 和 朋友 一起 去 的 就是 人太多 了 不能 安静 享受 在 观唐 的 时...</td>\n",
       "      <td>1</td>\n",
       "    </tr>\n",
       "    <tr>\n",
       "      <th>9801</th>\n",
       "      <td>感觉 没有 传说 中 那么 可怕 不过 楼梯 数量 相当可观 歇 了 n 次 才 到 南天门...</td>\n",
       "      <td>2</td>\n",
       "    </tr>\n",
       "    <tr>\n",
       "      <th>15861</th>\n",
       "      <td>下午 我们 到 到 蓬莱阁 游玩 蓬莱阁 景区 至少 有 三扇 门 网络 票 必须 南门 进...</td>\n",
       "      <td>3</td>\n",
       "    </tr>\n",
       "    <tr>\n",
       "      <th>18130</th>\n",
       "      <td>过于 商业化 感觉 花钱 买票 进入 了 一个 小商品 市场</td>\n",
       "      <td>3</td>\n",
       "    </tr>\n",
       "    <tr>\n",
       "      <th>16288</th>\n",
       "      <td>天气 热 每个 项目 都 要 排队 等 好久 老人 热 的 不行 孩子 也 不愿 等 花 了...</td>\n",
       "      <td>3</td>\n",
       "    </tr>\n",
       "  </tbody>\n",
       "</table>\n",
       "</div>"
      ],
      "text/plain": [
       "                                         COMMCONTENT_SEG  COMMLEVEL\n",
       "7992                  商业 气息 太 浓 摆摊 的 太 多 破坏 了 村子 的 整体 感觉          2\n",
       "5217   刘公岛 是 威海 最 值得 来 的 景点 做好 能 避开 周末 游客 多 的 时间 有 时间...          1\n",
       "16507       泰山 温泉 周围环境 景色 很 美 室内 小 池子 温泉水 不 干净 泳池 水太凉 一般          3\n",
       "9121            德国 风情街 在 馆陶 路 那边 有 一些 德国 风情 的 建筑 适合 拍照 哦          2\n",
       "3241                         值得 去 看 一下 啊 这里 也 是 一个 风景区 啊          1\n",
       "2980   总的来说 不错 和 朋友 一起 去 的 就是 人太多 了 不能 安静 享受 在 观唐 的 时...          1\n",
       "9801   感觉 没有 传说 中 那么 可怕 不过 楼梯 数量 相当可观 歇 了 n 次 才 到 南天门...          2\n",
       "15861  下午 我们 到 到 蓬莱阁 游玩 蓬莱阁 景区 至少 有 三扇 门 网络 票 必须 南门 进...          3\n",
       "18130                     过于 商业化 感觉 花钱 买票 进入 了 一个 小商品 市场          3\n",
       "16288  天气 热 每个 项目 都 要 排队 等 好久 老人 热 的 不行 孩子 也 不愿 等 花 了...          3"
      ]
     },
     "execution_count": 8,
     "metadata": {},
     "output_type": "execute_result"
    }
   ],
   "source": [
    "data.head(10)"
   ]
  },
  {
   "cell_type": "code",
   "execution_count": null,
   "metadata": {},
   "outputs": [],
   "source": []
  },
  {
   "cell_type": "code",
   "execution_count": 11,
   "metadata": {},
   "outputs": [
    {
     "name": "stdout",
     "output_type": "stream",
     "text": [
      "2 商业 气息 太 浓 摆摊 的 太 多 破坏 了 村子 的 整体 感觉\n",
      "1 刘公岛 是 威海 最 值得 来 的 景点 做好 能 避开 周末 游客 多 的 时间 有 时间 可以 细细 玩 除了 动物园 比较 鸡肋 其他 景点 还好 喜欢 坐船 的 可以 座 环岛 的 船\n",
      "3 泰山 温泉 周围环境 景色 很 美 室内 小 池子 温泉水 不 干净 泳池 水太凉 一般\n",
      "2 德国 风情街 在 馆陶 路 那边 有 一些 德国 风情 的 建筑 适合 拍照 哦\n",
      "1 值得 去 看 一下 啊 这里 也 是 一个 风景区 啊\n",
      "1 总的来说 不错 和 朋友 一起 去 的 就是 人太多 了 不能 安静 享受 在 观唐 的 时间 很 赶 的 感觉 看到 好多 带 宝宝 去 的 天 太冷 注意 保暖 啊 小孩 似乎 受不了 温差 的 折腾 自助餐 看起来 品种 很多 其实 吃 到 的 不太多 菜 颜色 不 鲜艳 没什么 食欲 饮料 难 喝 就 细节 来说 观唐 服务 还是 很 贴心 的 啊 滑梯 楼梯 前 总有 一位 工作人员 提醒 大家 注意安全 很 贴心 有 机会 温差 不 大 带 孩子 再 去\n",
      "2 感觉 没有 传说 中 那么 可怕 不过 楼梯 数量 相当可观 歇 了 n 次 才 到 南天门 路上 有 很多 挑山工 看着 他们 再 看 山上 的 物价 也 就 觉得 不是 那么 贵 了\n",
      "3 下午 我们 到 到 蓬莱阁 游玩 蓬莱阁 景区 至少 有 三扇 门 网络 票 必须 南门 进 老婆 在 携程 预付 的 票 原价 140 元 的 门票 网络 价 125 元 预付 再 返现 5 元 在 蓬莱 市区 有 卖 125 元 的 蓬莱阁 门票 也 有 卖 120 元 的 其实 都 一样 没 必要 网上 订 蓬莱阁 景区 很大 怕累 的 同志 可以 坐 电瓶车 10 元 位 其实 125 元 的 门票 只是 蓬莱阁 古建筑群 用 外面 的 水师 衙门 登州 博物馆 田 横山 等 都 不用 门票 有人 问 就 说 昨天 没看 完 今天 来看 门票 没带 不过 看 蓬莱阁 的 趋势 以后 会 出个 大 门票 把 所有 的 景点 全部 包含 在内 蜂友们 就 没得 逃票 了 现在 其实 也 都 包含 在 高高的 城墙 内 了 只是 大门口 没 人 检票 而已 古建筑群 入口 现在 有人 把守 严格 查票 没 去 蓬莱阁 后悔 去过 以后 更 后悔 但 还是 有 许多 人 慕名 前往 我 也 是 其中 一个\n",
      "3 过于 商业化 感觉 花钱 买票 进入 了 一个 小商品 市场\n",
      "3 天气 热 每个 项目 都 要 排队 等 好久 老人 热 的 不行 孩子 也 不愿 等 花 了 那么 多钱 的 门票 就 玩 了 两三个 小 项目 不 值得\n"
     ]
    }
   ],
   "source": [
    "for row in data.head(10).iterrows():\n",
    "    print(row[1]['COMMLEVEL'], row[1]['COMMCONTENT_SEG']) "
   ]
  },
  {
   "cell_type": "markdown",
   "metadata": {},
   "source": [
    "### 训练集/测试集 划分"
   ]
  },
  {
   "cell_type": "code",
   "execution_count": 12,
   "metadata": {},
   "outputs": [
    {
     "name": "stdout",
     "output_type": "stream",
     "text": [
      "(15995,) (3999,) (15995,) (3999,)\n"
     ]
    }
   ],
   "source": [
    "x_train, x_test, y_train, y_test = train_test_split(data['COMMCONTENT_SEG'],\n",
    "                  data['COMMLEVEL'],\n",
    "                  test_size=0.2,\n",
    "                   random_state=42,\n",
    "                   stratify=data['COMMLEVEL'])\n",
    "\n",
    "print(x_train.shape, x_test.shape, y_train.shape, y_test.shape)"
   ]
  },
  {
   "cell_type": "markdown",
   "metadata": {},
   "source": [
    "#### 将测试标签保存在磁盘上供以后使用"
   ]
  },
  {
   "cell_type": "code",
   "execution_count": null,
   "metadata": {},
   "outputs": [],
   "source": [
    "pd.DataFrame(y_test).to_csv('./predictions/y_true.csv', index=False, encoding='utf-8')"
   ]
  },
  {
   "cell_type": "code",
   "execution_count": 20,
   "metadata": {},
   "outputs": [],
   "source": [
    "n_classes = np.unique(y_train).shape[0]"
   ]
  },
  {
   "cell_type": "code",
   "execution_count": 21,
   "metadata": {},
   "outputs": [
    {
     "data": {
      "text/plain": [
       "3"
      ]
     },
     "execution_count": 21,
     "metadata": {},
     "output_type": "execute_result"
    }
   ],
   "source": [
    "n_classes"
   ]
  },
  {
   "cell_type": "code",
   "execution_count": 41,
   "metadata": {},
   "outputs": [
    {
     "data": {
      "text/plain": [
       "Series([], Name: COMMCONTENT_SEG, dtype: object)"
      ]
     },
     "execution_count": 41,
     "metadata": {},
     "output_type": "execute_result"
    }
   ],
   "source": [
    "x_train[x_train.isnull()==True]"
   ]
  },
  {
   "cell_type": "code",
   "execution_count": 40,
   "metadata": {},
   "outputs": [],
   "source": [
    "x_train[14365] = \"nooo\""
   ]
  },
  {
   "cell_type": "markdown",
   "metadata": {},
   "source": [
    "## 1 - 基于词ngrams的词袋模型"
   ]
  },
  {
   "cell_type": "code",
   "execution_count": 55,
   "metadata": {},
   "outputs": [],
   "source": [
    "vectorizer_word = TfidfVectorizer(max_features=40000,\n",
    "                                  min_df=5,\n",
    "                                  max_df=0.5,\n",
    "                                  analyzer='word',\n",
    "                                  stop_words='english',\n",
    "                                  ngram_range=(1, 2))\n",
    "\n",
    "vectorizer_word.fit(x_train)\n",
    "\n",
    "tfidf_matrix_word_train = vectorizer_word.transform(x_train)\n",
    "tfidf_matrix_word_test = vectorizer_word.transform(x_test)"
   ]
  },
  {
   "cell_type": "code",
   "execution_count": 56,
   "metadata": {},
   "outputs": [
    {
     "data": {
      "text/plain": [
       "<15995x9696 sparse matrix of type '<class 'numpy.float64'>'\n",
       "\twith 254816 stored elements in Compressed Sparse Row format>"
      ]
     },
     "execution_count": 56,
     "metadata": {},
     "output_type": "execute_result"
    }
   ],
   "source": [
    "tfidf_matrix_word_train"
   ]
  },
  {
   "cell_type": "code",
   "execution_count": 52,
   "metadata": {},
   "outputs": [
    {
     "name": "stdout",
     "output_type": "stream",
     "text": [
      "convergence after 20 epochs took 1 seconds\n",
      "convergence after 24 epochs took 0 seconds\n"
     ]
    },
    {
     "name": "stderr",
     "output_type": "stream",
     "text": [
      "[Parallel(n_jobs=1)]: Done   1 out of   1 | elapsed:    0.2s remaining:    0.0s\n"
     ]
    },
    {
     "name": "stdout",
     "output_type": "stream",
     "text": [
      "convergence after 21 epochs took 0 seconds\n"
     ]
    },
    {
     "name": "stderr",
     "output_type": "stream",
     "text": [
      "[Parallel(n_jobs=1)]: Done   3 out of   3 | elapsed:    0.5s finished\n"
     ]
    },
    {
     "data": {
      "text/plain": [
       "LogisticRegression(C=1.0, class_weight=None, dual=False, fit_intercept=True,\n",
       "          intercept_scaling=1, max_iter=100, multi_class='ovr', n_jobs=1,\n",
       "          penalty='l2', random_state=42, solver='sag', tol=0.0001,\n",
       "          verbose=2, warm_start=False)"
      ]
     },
     "execution_count": 52,
     "metadata": {},
     "output_type": "execute_result"
    }
   ],
   "source": [
    "# \n",
    "lr_word = LogisticRegression(solver='sag', \n",
    "                             verbose=2,\n",
    "                            random_state=42)\n",
    "lr_word.fit(tfidf_matrix_word_train, y_train)"
   ]
  },
  {
   "cell_type": "code",
   "execution_count": 53,
   "metadata": {},
   "outputs": [],
   "source": [
    "joblib.dump(lr_word, './lr_word_ngram.pkl')\n",
    "\n",
    "y_pred_word = lr_word.predict(tfidf_matrix_word_test)\n",
    "pd.DataFrame(y_pred_word, columns=['y_pred']).to_csv('./lr_word_ngram.csv', \n",
    "index=False)"
   ]
  },
  {
   "cell_type": "code",
   "execution_count": 54,
   "metadata": {},
   "outputs": [
    {
     "name": "stdout",
     "output_type": "stream",
     "text": [
      "0.663915978995\n"
     ]
    }
   ],
   "source": [
    "y_pred_word = pd.read_csv('./lr_word_ngram.csv')\n",
    "print(accuracy_score(y_test, y_pred_word))"
   ]
  },
  {
   "cell_type": "code",
   "execution_count": 63,
   "metadata": {},
   "outputs": [],
   "source": [
    "!echo 0.66416604151 >> word-ngram-bag-of-words-0.66.txt"
   ]
  },
  {
   "cell_type": "code",
   "execution_count": null,
   "metadata": {},
   "outputs": [],
   "source": []
  },
  {
   "cell_type": "code",
   "execution_count": null,
   "metadata": {},
   "outputs": [],
   "source": []
  },
  {
   "cell_type": "code",
   "execution_count": null,
   "metadata": {},
   "outputs": [],
   "source": []
  },
  {
   "cell_type": "code",
   "execution_count": 59,
   "metadata": {},
   "outputs": [
    {
     "name": "stdout",
     "output_type": "stream",
     "text": [
      "convergence after 20 epochs took 0 seconds\n"
     ]
    },
    {
     "name": "stderr",
     "output_type": "stream",
     "text": [
      "[Parallel(n_jobs=1)]: Done   1 out of   1 | elapsed:    0.7s remaining:    0.0s\n"
     ]
    },
    {
     "name": "stdout",
     "output_type": "stream",
     "text": [
      "convergence after 20 epochs took 1 seconds\n",
      "convergence after 21 epochs took 1 seconds\n",
      "0.678419604901\n"
     ]
    },
    {
     "name": "stderr",
     "output_type": "stream",
     "text": [
      "[Parallel(n_jobs=1)]: Done   3 out of   3 | elapsed:    2.0s finished\n"
     ]
    }
   ],
   "source": [
    "vectorizer_char = TfidfVectorizer(max_features=40000,\n",
    "                                  min_df=5,\n",
    "                                  max_df=0.5,\n",
    "                                  analyzer='char',\n",
    "                                  ngram_range=(1, 4))\n",
    "\n",
    "vectorizer_char.fit(x_train);\n",
    "\n",
    "tfidf_matrix_char_train = vectorizer_char.transform(x_train)\n",
    "tfidf_matrix_char_test = vectorizer_char.transform(x_test)\n",
    "\n",
    "lr_char = LogisticRegression(solver='sag', verbose=2)\n",
    "lr_char.fit(tfidf_matrix_char_train, y_train)\n",
    "\n",
    "y_pred_char = lr_char.predict(tfidf_matrix_char_test)\n",
    "joblib.dump(lr_char, './lr_char_ngram.pkl')\n",
    "\n",
    "pd.DataFrame(y_pred_char, columns=['y_pred']).to_csv('./lr_char_ngram.csv', \n",
    "index=False)\n",
    "\n",
    "y_pred_char = pd.read_csv('./lr_char_ngram.csv')\n",
    "print(accuracy_score(y_test, y_pred_char))"
   ]
  },
  {
   "cell_type": "code",
   "execution_count": 60,
   "metadata": {},
   "outputs": [
    {
     "name": "stdout",
     "output_type": "stream",
     "text": [
      "0.678419604901\n"
     ]
    }
   ],
   "source": [
    "print(accuracy_score(y_test, y_pred_char))"
   ]
  },
  {
   "cell_type": "code",
   "execution_count": 64,
   "metadata": {},
   "outputs": [],
   "source": [
    "!echo 0.678419604901 >> char-ngram-bag-of-words-0.67.txt"
   ]
  },
  {
   "cell_type": "code",
   "execution_count": null,
   "metadata": {},
   "outputs": [],
   "source": []
  }
 ],
 "metadata": {
  "kernelspec": {
   "display_name": "Python 3",
   "language": "python",
   "name": "python3"
  },
  "language_info": {
   "codemirror_mode": {
    "name": "ipython",
    "version": 3
   },
   "file_extension": ".py",
   "mimetype": "text/x-python",
   "name": "python",
   "nbconvert_exporter": "python",
   "pygments_lexer": "ipython3",
   "version": "3.6.2"
  }
 },
 "nbformat": 4,
 "nbformat_minor": 2
}
